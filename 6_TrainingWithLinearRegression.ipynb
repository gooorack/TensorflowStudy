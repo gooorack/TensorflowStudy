{
 "cells": [
  {
   "cell_type": "markdown",
   "metadata": {
    "collapsed": true
   },
   "source": [
    "## Training Models with Linear Regression\n",
    "\n"
   ]
  },
  {
   "cell_type": "markdown",
   "metadata": {},
   "source": [
    "### Create Training Data"
   ]
  },
  {
   "cell_type": "code",
   "execution_count": 309,
   "metadata": {},
   "outputs": [],
   "source": [
    "#import libraries\n",
    "import numpy as np\n",
    "import tensorflow as tf\n",
    "\n",
    "import matplotlib.pyplot as plt\n",
    "\n",
    "%matplotlib inline"
   ]
  },
  {
   "cell_type": "code",
   "execution_count": 310,
   "metadata": {},
   "outputs": [
    {
     "data": {
      "image/png": "[encoded data removed]",
      "text/plain": [
       "<matplotlib.figure.Figure at 0x7f910ff24790>"
      ]
     },
     "metadata": {},
     "output_type": "display_data"
    }
   ],
   "source": [
    "# Generate Samle Points\n",
    "a_data=3.5\n",
    "b_data=2\n",
    "\n",
    "x_data = np.random.rand(100).astype(np.float32)\n",
    "y_data = x_data * a_data + b_data\n",
    "\n",
    "\n",
    "plt.plot(x_data,y_data) \n",
    "plt.ylabel('Y')\n",
    "plt.xlabel('X')\n",
    "plt.show()\n",
    "\n"
   ]
  },
  {
   "cell_type": "code",
   "execution_count": 311,
   "metadata": {},
   "outputs": [],
   "source": [
    "#Add Noise\n",
    "def add_noise(y):\n",
    "   return y+np.random.normal(loc=0.0, scale=0.5)\n",
    "y_data = map(add_noise,y_data)"
   ]
  },
  {
   "cell_type": "code",
   "execution_count": 312,
   "metadata": {},
   "outputs": [
    {
     "data": {
      "image/png": "[encoded data removed]",
      "text/plain": [
       "<matplotlib.figure.Figure at 0x7f910fbdfcd0>"
      ]
     },
     "metadata": {},
     "output_type": "display_data"
    }
   ],
   "source": [
    "plt.scatter(x_data,y_data) \n",
    "plt.ylabel('Y')\n",
    "plt.xlabel('X')\n",
    "plt.show()"
   ]
  },
  {
   "cell_type": "markdown",
   "metadata": {},
   "source": [
    "### Data Graph"
   ]
  },
  {
   "cell_type": "code",
   "execution_count": 313,
   "metadata": {},
   "outputs": [],
   "source": [
    "# to Solve\n",
    "a = tf.Variable(np.random.normal(loc=1.0, scale=1.0), name = 'A')\n",
    "b = tf.Variable(np.random.normal(loc=1.0, scale=1.0), name = 'B')\n",
    "\n",
    "y = a * x_data + b\n"
   ]
  },
  {
   "cell_type": "code",
   "execution_count": 314,
   "metadata": {},
   "outputs": [],
   "source": [
    "#loss function\n",
    "loss = tf.reduce_mean(tf.square(y - y_data))\n"
   ]
  },
  {
   "cell_type": "code",
   "execution_count": 315,
   "metadata": {},
   "outputs": [],
   "source": [
    "#optimiser\n",
    "learning_rate = 0.1\n",
    "optimizer = tf.train.GradientDescentOptimizer(learning_rate)\n"
   ]
  },
  {
   "cell_type": "code",
   "execution_count": 316,
   "metadata": {},
   "outputs": [],
   "source": [
    "#trainer\n",
    "train = optimizer.minimize(loss)"
   ]
  },
  {
   "cell_type": "code",
   "execution_count": 317,
   "metadata": {
    "collapsed": true
   },
   "outputs": [],
   "source": [
    "init = tf.global_variables_initializer()\n",
    "session = tf.Session()\n",
    "session.run(init)"
   ]
  },
  {
   "cell_type": "code",
   "execution_count": 318,
   "metadata": {},
   "outputs": [
    {
     "name": "stdout",
     "output_type": "stream",
     "text": [
      "[1.3321536, 1.4348023, 3.5468764]\n",
      "[1.5328703, 1.7813447, 2.1448984]\n",
      "[1.6864363, 2.0387261, 1.3595233]\n",
      "[1.8046948, 2.2294424, 0.91911125]\n",
      "[1.8965042, 2.3703187, 0.67170221]\n",
      "[1.9684907, 2.4739392, 0.53228658]\n",
      "[2.0256107, 2.5497155, 0.4533087]\n",
      "[2.0715718, 2.604687, 0.40816414]\n",
      "[2.1091478, 2.6441183, 0.38196948]\n",
      "[2.1404133, 2.6719468, 0.36639845]\n"
     ]
    }
   ],
   "source": [
    "for step in range(10):\n",
    "    result = session.run(train)\n",
    "    print(session.run([a,b,loss]))"
   ]
  },
  {
   "cell_type": "code",
   "execution_count": 319,
   "metadata": {},
   "outputs": [
    {
     "name": "stdout",
     "output_type": "stream",
     "text": [
      "[2.1669209, 2.691117, 0.35679242]\n",
      "[2.612169, 2.555047, 0.29425603]\n",
      "[2.8610237, 2.4240644, 0.27421859]\n",
      "[3.0140331, 2.3435287, 0.26664346]\n",
      "[3.1081121, 2.2940109, 0.26377967]\n",
      "[3.165956, 2.2635648, 0.2626971]\n",
      "[3.2015219, 2.2448452, 0.26228783]\n",
      "[3.2233896, 2.233335, 0.26213309]\n",
      "[3.2368355, 2.2262576, 0.26207459]\n",
      "[3.2451026, 2.2219064, 0.26205251]\n"
     ]
    }
   ],
   "source": [
    "epochs = 400\n",
    "display_epochs = 40\n",
    "\n",
    "for step in range(epochs):\n",
    "    result = session.run(train)\n",
    "    if step % display_epochs == 0:\n",
    "        print(session.run([a,b,loss]))\n",
    "        \n",
    "\n",
    "a_val = session.run(a)\n",
    "b_val = session.run(b)\n"
   ]
  },
  {
   "cell_type": "markdown",
   "metadata": {},
   "source": [
    "### Plot output"
   ]
  },
  {
   "cell_type": "code",
   "execution_count": 320,
   "metadata": {},
   "outputs": [
    {
     "data": {
      "image/png": "[encoded data removed]",
      "text/plain": [
       "<matplotlib.figure.Figure at 0x7f910ff1e5d0>"
      ]
     },
     "metadata": {},
     "output_type": "display_data"
    }
   ],
   "source": [
    "#trainning data\n",
    "plt.scatter(x_data,y_data) \n",
    "\n",
    "# Trained line\n",
    "a_val = session.run(a)\n",
    "b_val = session.run(b)\n",
    "y2 = a_val * x_data + b_val\n",
    "\n",
    "plt.plot(x_data,y2,color=\"red\")\n",
    "\n",
    "\n",
    "\n",
    "plt.ylabel('Y')\n",
    "plt.xlabel('X')\n",
    "plt.show()"
   ]
  },
  {
   "cell_type": "code",
   "execution_count": 321,
   "metadata": {},
   "outputs": [],
   "source": [
    "session.close()"
   ]
  },
  {
   "cell_type": "code",
   "execution_count": null,
   "metadata": {
    "collapsed": true
   },
   "outputs": [],
   "source": []
  },
  {
   "cell_type": "code",
   "execution_count": null,
   "metadata": {
    "collapsed": true
   },
   "outputs": [],
   "source": []
  }
 ],
 "metadata": {
  "kernelspec": {
   "display_name": "Python 2",
   "language": "python",
   "name": "python2"
  },
  "language_info": {
   "codemirror_mode": {
    "name": "ipython",
    "version": 2
   },
   "file_extension": ".py",
   "mimetype": "text/x-python",
   "name": "python",
   "nbconvert_exporter": "python",
   "pygments_lexer": "ipython2",
   "version": "2.7.12"
  }
 },
 "nbformat": 4,
 "nbformat_minor": 2
}
