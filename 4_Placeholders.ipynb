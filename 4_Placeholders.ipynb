{
 "cells": [
  {
   "cell_type": "markdown",
   "metadata": {},
   "source": [
    "## Placeholders and Feed Dictionaries"
   ]
  },
  {
   "cell_type": "markdown",
   "metadata": {},
   "source": [
    "How to put data into "
   ]
  },
  {
   "cell_type": "code",
   "execution_count": 1,
   "metadata": {
    "collapsed": true
   },
   "outputs": [],
   "source": [
    "import tensorflow as tf"
   ]
  },
  {
   "cell_type": "code",
   "execution_count": 3,
   "metadata": {},
   "outputs": [
    {
     "name": "stdout",
     "output_type": "stream",
     "text": [
      "[12 22 32]\n"
     ]
    }
   ],
   "source": [
    "a = tf.placeholder(\"int16\",None)\n",
    "b = a + 2\n",
    "\n",
    "#Define a dictionary to replace the value of 'a' with\n",
    "inputs={a:[10,20,30]}\n",
    "\n",
    "with tf.Session() as sess:\n",
    "    print(sess.run(b,feed_dict=inputs))\n",
    "\n"
   ]
  },
  {
   "cell_type": "markdown",
   "metadata": {},
   "source": [
    "## More Advanced"
   ]
  },
  {
   "cell_type": "code",
   "execution_count": 15,
   "metadata": {},
   "outputs": [
    {
     "name": "stdout",
     "output_type": "stream",
     "text": [
      "[30 40 50]\n"
     ]
    }
   ],
   "source": [
    "a = tf.placeholder(dtype=tf.int16,shape=None,name=\"A_input\")\n",
    "b = tf.placeholder(dtype=tf.int16,shape=None,name=\"A_input\")\n",
    "\n",
    "c = a + b\n",
    "\n",
    "#Define a dictionary to replace the value of 'a' with\n",
    "inputs={a:[10,20,30],b:[20,20,20]}\n",
    "\n",
    "with tf.Session() as sess:\n",
    "    print(sess.run(c,feed_dict=inputs))\n"
   ]
  },
  {
   "cell_type": "code",
   "execution_count": null,
   "metadata": {
    "collapsed": true
   },
   "outputs": [],
   "source": []
  }
 ],
 "metadata": {
  "kernelspec": {
   "display_name": "Python 2",
   "language": "python",
   "name": "python2"
  },
  "language_info": {
   "codemirror_mode": {
    "name": "ipython",
    "version": 2
   },
   "file_extension": ".py",
   "mimetype": "text/x-python",
   "name": "python",
   "nbconvert_exporter": "python",
   "pygments_lexer": "ipython2",
   "version": "2.7.12"
  }
 },
 "nbformat": 4,
 "nbformat_minor": 2
}
