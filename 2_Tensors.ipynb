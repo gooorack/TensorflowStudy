{
 "cells": [
  {
   "cell_type": "markdown",
   "metadata": {},
   "source": [
    "## Tensors"
   ]
  },
  {
   "cell_type": "code",
   "execution_count": null,
   "metadata": {
    "collapsed": true
   },
   "outputs": [],
   "source": [
    "import tensorflow as tf\n"
   ]
  },
  {
   "cell_type": "code",
   "execution_count": 11,
   "metadata": {},
   "outputs": [],
   "source": [
    "#Tensorflow constants\n",
    "Scalar = tf.constant([2])\n",
    "Vector = tf.constant([5,6,2])\n",
    "Matrix = tf.constant([[1,2,3],[4,5,6],[7,8,9]])\n",
    "Tensor = tf.constant([\n",
    "    [[1,2,3],[2,3,4],[3,4,5]],\n",
    "     [[1,2,3],[2,3,4],[3,4,5]],\n",
    "     [[1,2,3],[2,3,4],[3,4,5]]\n",
    "])"
   ]
  },
  {
   "cell_type": "code",
   "execution_count": 12,
   "metadata": {},
   "outputs": [],
   "source": [
    "import numpy as np\n",
    " \n",
    "#tensors using numpy\n",
    "np_t_0 = np.array(10, dtype=np.int32)\n",
    "np_t_1 = np.array([b\"blue\",b\"red\",b\"green\"])\n",
    "np_t_2 = np.array([\n",
    "[True,True,False],[False,False,True],[False,True,False]],dtype=np.bool)\n",
    " \n",
    "Scalar_np = tf.constant(np_t_0)\n",
    "Vector_np = tf.constant(np_t_1)\n",
    "Matrix_np = tf.constant(np_t_2)"
   ]
  },
  {
   "cell_type": "code",
   "execution_count": 13,
   "metadata": {
    "scrolled": true
   },
   "outputs": [
    {
     "name": "stdout",
     "output_type": "stream",
     "text": [
      "Scalar (1 entry):\n",
      " [2] \n",
      "\n",
      "Vector (3 entries) :\n",
      " [5 6 2] \n",
      "\n",
      "Matrix (3x3 entries):\n",
      " [[1 2 3]\n",
      " [4 5 6]\n",
      " [7 8 9]] \n",
      "\n",
      "Tensor (3x3x3 entries) :\n",
      " [[[1 2 3]\n",
      "  [2 3 4]\n",
      "  [3 4 5]]\n",
      "\n",
      " [[1 2 3]\n",
      "  [2 3 4]\n",
      "  [3 4 5]]\n",
      "\n",
      " [[1 2 3]\n",
      "  [2 3 4]\n",
      "  [3 4 5]]] \n",
      "\n",
      "Scalar (1 entry):\n",
      " 10 \n",
      "\n",
      "Vector (3 entries) :\n",
      " ['blue' 'red' 'green'] \n",
      "\n",
      "Matrix (3x3 entries):\n",
      " [[ True  True False]\n",
      " [False False  True]\n",
      " [False  True False]] \n",
      "\n"
     ]
    }
   ],
   "source": [
    "with tf.Session() as session:\n",
    "    result = session.run(Scalar)\n",
    "    print \"Scalar (1 entry):\\n %s \\n\" % result\n",
    "    result = session.run(Vector)\n",
    "    print \"Vector (3 entries) :\\n %s \\n\" % result\n",
    "    result = session.run(Matrix)\n",
    "    print \"Matrix (3x3 entries):\\n %s \\n\" % result\n",
    "    result = session.run(Tensor)\n",
    "    print \"Tensor (3x3x3 entries) :\\n %s \\n\" % result\n",
    "    \n",
    "    result = session.run(Scalar_np)\n",
    "    print \"Scalar (1 entry):\\n %s \\n\" % result\n",
    "    result = session.run(Vector_np)\n",
    "    print \"Vector (3 entries) :\\n %s \\n\" % result\n",
    "    result = session.run(Matrix_np)\n",
    "    print \"Matrix (3x3 entries):\\n %s \\n\" % result"
   ]
  },
  {
   "cell_type": "markdown",
   "metadata": {
    "collapsed": true
   },
   "source": [
    "## Run V Eval"
   ]
  },
  {
   "cell_type": "code",
   "execution_count": 14,
   "metadata": {},
   "outputs": [
    {
     "name": "stdout",
     "output_type": "stream",
     "text": [
      "5.0\n",
      "5.0\n"
     ]
    }
   ],
   "source": [
    "# Using `Session.run()`.\n",
    "sess = tf.Session()\n",
    "c = tf.constant(5.0)\n",
    "print(sess.run(c))\n",
    " \n",
    "# Using `Tensor.eval()`.\n",
    "c = tf.constant(5.0)\n",
    "with tf.Session():\n",
    "  print(c.eval())"
   ]
  },
  {
   "cell_type": "code",
   "execution_count": null,
   "metadata": {
    "collapsed": true
   },
   "outputs": [],
   "source": []
  }
 ],
 "metadata": {
  "kernelspec": {
   "display_name": "Python 2",
   "language": "python",
   "name": "python2"
  },
  "language_info": {
   "codemirror_mode": {
    "name": "ipython",
    "version": 2
   },
   "file_extension": ".py",
   "mimetype": "text/x-python",
   "name": "python",
   "nbconvert_exporter": "python",
   "pygments_lexer": "ipython2",
   "version": "2.7.12"
  }
 },
 "nbformat": 4,
 "nbformat_minor": 2
}
