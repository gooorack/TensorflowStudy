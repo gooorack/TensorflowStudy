{
 "cells": [
  {
   "cell_type": "markdown",
   "metadata": {},
   "source": [
    "## MNIST 2"
   ]
  },
  {
   "cell_type": "markdown",
   "metadata": {},
   "source": [
    "Continuing on from the previous lesson.  We will try to increase the accuracy by adding another hidden layer to the system.\n",
    "\n",
    "We will also add some Tensorboard monitoring"
   ]
  },
  {
   "cell_type": "markdown",
   "metadata": {},
   "source": [
    "### Import libraries"
   ]
  },
  {
   "cell_type": "code",
   "execution_count": 16,
   "metadata": {
    "collapsed": true
   },
   "outputs": [],
   "source": [
    "import numpy as np\n",
    "import tensorflow as tf\n",
    "import matplotlib.pyplot as plt\n",
    "\n",
    "%matplotlib inline"
   ]
  },
  {
   "cell_type": "code",
   "execution_count": 17,
   "metadata": {},
   "outputs": [
    {
     "name": "stdout",
     "output_type": "stream",
     "text": [
      "Extracting /tmp/data/train-images-idx3-ubyte.gz\n",
      "Extracting /tmp/data/train-labels-idx1-ubyte.gz\n",
      "Extracting /tmp/data/t10k-images-idx3-ubyte.gz\n",
      "Extracting /tmp/data/t10k-labels-idx1-ubyte.gz\n"
     ]
    }
   ],
   "source": [
    "# Import MNIST\n",
    "from tensorflow.examples.tutorials.mnist import input_data\n",
    "mnist = input_data.read_data_sets(\"/tmp/data/\", one_hot=True)\n",
    "\n",
    "# Load data\n",
    "X_train = mnist.train.images\n",
    "Y_train = mnist.train.labels\n",
    "X_test = mnist.test.images\n",
    "Y_test = mnist.test.labels\n",
    "X_validation = mnist.validation.images\n",
    "Y_validation = mnist.validation.labels"
   ]
  },
  {
   "cell_type": "code",
   "execution_count": 18,
   "metadata": {
    "collapsed": true
   },
   "outputs": [],
   "source": [
    "# Graphing functions\n",
    "\n",
    "def display_mnist(input_array, invert = False):\n",
    "    first_image = []\n",
    "    if invert:\n",
    "        first_image = np.array(input_array*255, dtype='uint8')\n",
    "    else:\n",
    "        first_image = np.array((1-input_array)*255, dtype='uint8')\n",
    "\n",
    "    pixels = first_image.reshape((28, 28))\n",
    "    plt.imshow(pixels, cmap='gray')\n",
    "    plt.show()\n",
    "    \n",
    "def bar_graph(x1,y1):\n",
    "    probabilities = session.run(result, feed_dict={x_data: x1, y_data: y1})\n",
    "    label = session.run(tf.argmax(y1, 1))\n",
    "    predicted = session.run(tf.argmax(probabilities, 1))\n",
    "\n",
    "    print \"Actual:\",label[0], \" Predicted: \", predicted[0]\n",
    "    display_mnist(x1)\n",
    "    y=probabilities[0]\n",
    "    N = len(probabilities[0])\n",
    "    x = range(N)\n",
    "    width = 1/1.5\n",
    "    plt.bar(x, y, width, color=\"blue\")\n",
    "    plt.show()"
   ]
  },
  {
   "cell_type": "markdown",
   "metadata": {},
   "source": [
    "Here we will add another layer to the network.  "
   ]
  },
  {
   "cell_type": "code",
   "execution_count": 19,
   "metadata": {
    "collapsed": true
   },
   "outputs": [],
   "source": [
    "#Network Parameters\n",
    "INPUTS = 784       # 28 x 28 = 784 input pixels\n",
    "HIDDEN_1 = 256     # we will start with a NN with 1 hidden layer and 40 nodes.\n",
    "HIDDEN_2 = 256     # Second layer added\n",
    "OUTPUTS = 10       # 10 possible outputs - 0->9\n",
    "\n",
    "#Training Parameters\n",
    "epochs = 10000          \n",
    "display_epochs = 50    \n",
    "batch_size = 100   \n",
    "learning_rate = 0.001  "
   ]
  },
  {
   "cell_type": "code",
   "execution_count": 20,
   "metadata": {
    "collapsed": true
   },
   "outputs": [],
   "source": [
    "#Use placeholders to pass our input and output data into the system\n",
    "x_data = tf.placeholder(dtype=tf.float32,shape=[None, INPUTS],name=\"input\")\n",
    "y_data = tf.placeholder(dtype=tf.float32,shape=[None, OUTPUTS],name=\"output\")"
   ]
  },
  {
   "cell_type": "markdown",
   "metadata": {},
   "source": [
    "# 2 layer NN Structure"
   ]
  },
  {
   "cell_type": "code",
   "execution_count": 21,
   "metadata": {
    "collapsed": true
   },
   "outputs": [],
   "source": [
    "#Structure\n",
    "# Weights - Input to Hidden 1\n",
    "weight1 = tf.random_normal([INPUTS, HIDDEN_1])\n",
    "weight1 = tf.Variable(weight1, name='W1')\n",
    "\n",
    "bias1 = tf.random_normal([HIDDEN_1])\n",
    "bias1 = tf.Variable(bias1, name='B1')\n",
    "\n",
    "#Weights - Hidden 1 to Hidden 2\n",
    "weight2 = tf.random_normal([HIDDEN_1, HIDDEN_2])\n",
    "weight2 = tf.Variable(weight2, name='W2')\n",
    "\n",
    "bias2 = tf.random_normal([HIDDEN_2])\n",
    "bias2 = tf.Variable(bias2, name='B2')\n",
    "\n",
    "# Weights - Hidden 2 to Output\n",
    "weight3 = tf.random_normal([HIDDEN_2, OUTPUTS])\n",
    "weight3 = tf.Variable(weight3, name='W2')\n",
    "\n",
    "bias3 = tf.random_normal([OUTPUTS])\n",
    "bias3 = tf.Variable(bias3, name='B2')\n",
    "\n",
    "#input to hidden 1\n",
    "hidden1 = tf.nn.relu(tf.add(tf.matmul(x_data, weight1), bias1))\n",
    "\n",
    "#hidden 1 to hidden 2\n",
    "hidden2 = tf.nn.relu(tf.add(tf.matmul(hidden1, weight2), bias2))\n",
    "\n",
    "#hidden2 to output\n",
    "y = tf.add(tf.matmul(hidden2, weight3), bias3)\n",
    "\n",
    "\n",
    "#apply final activation\n",
    "result = tf.nn.softmax(y)\n",
    "\n",
    "\n",
    "#loss and training\n",
    "loss = tf.reduce_mean(tf.nn.softmax_cross_entropy_with_logits(logits=y, labels=y_data))\n",
    "optimizer = tf.train.AdamOptimizer(learning_rate)\n",
    "train = optimizer.minimize(loss)"
   ]
  },
  {
   "cell_type": "code",
   "execution_count": 22,
   "metadata": {},
   "outputs": [],
   "source": [
    "#Training\n",
    "init = tf.global_variables_initializer()\n",
    "session = tf.Session(config=tf.ConfigProto(log_device_placement=True))\n",
    "session.run(init)\n",
    "\n",
    "for step in range(epochs):\n",
    "    #get a random batch of data\n",
    "    batch_x, batch_y = mnist.train.next_batch(batch_size)\n",
    "    \n",
    "    #run the training and the loss\n",
    "    out_training , out_loss = session.run([train,loss],feed_dict={x_data: batch_x, y_data: batch_y})\n",
    "\n",
    "    break\n",
    "    \n",
    "    if step % display_epochs == 0:\n",
    "        print(\"Step: %04d error: %g \"%(step,out_loss))"
   ]
  },
  {
   "cell_type": "code",
   "execution_count": 23,
   "metadata": {},
   "outputs": [
    {
     "name": "stdout",
     "output_type": "stream",
     "text": [
      "Complete\n",
      "Accuracy: 7.30%\n"
     ]
    }
   ],
   "source": [
    "#Calculate Accuracy\n",
    "\n",
    "print \"Complete\"\n",
    "correct_prediction = tf.equal(tf.argmax(y, 1), tf.argmax(y_data, 1))\n",
    "accuracy = tf.reduce_mean(tf.cast(correct_prediction, \"float\"))\n",
    "accuracy = session.run(accuracy,feed_dict={x_data: mnist.test.images, y_data: mnist.test.labels})\n",
    "print \"Accuracy:\", \"{:.2%}\".format(accuracy)"
   ]
  },
  {
   "cell_type": "markdown",
   "metadata": {},
   "source": [
    "## Simplify\n",
    "\n",
    "Lets use the tf.contrib.fully_connected operation to simplify the code."
   ]
  },
  {
   "cell_type": "code",
   "execution_count": 24,
   "metadata": {},
   "outputs": [],
   "source": [
    "#close previous session \n",
    "session.close()\n",
    "\n",
    "# reset tensorboard\n",
    "tf.reset_default_graph()"
   ]
  },
  {
   "cell_type": "code",
   "execution_count": 25,
   "metadata": {
    "collapsed": true
   },
   "outputs": [],
   "source": [
    "#Use placeholders to pass our input and output data into the system\n",
    "x_data = tf.placeholder(dtype=tf.float32,shape=[None, INPUTS],name=\"input\")\n",
    "y_data = tf.placeholder(dtype=tf.float32,shape=[None, OUTPUTS],name=\"output\")\n",
    "\n",
    "# 2 hidden layers\n",
    "def multilayer_perceptron2(x):\n",
    "    #inside this, variables 'fc1/weights' and 'fc1/bias' are defined\n",
    "    fc1 = tf.contrib.layers.fully_connected(x, HIDDEN_1, activation_fn=tf.nn.relu)\n",
    "    tf.summary.histogram('fc1', fc1)\n",
    "    fc2 = tf.contrib.layers.fully_connected(fc1, HIDDEN_2, activation_fn=tf.nn.relu)\n",
    "    tf.summary.histogram('fc2', fc2)\n",
    "    out = tf.contrib.layers.fully_connected(fc2, OUTPUTS, activation_fn=None)\n",
    "    return out\n",
    "\n",
    "# 5 hidden layers\n",
    "def multilayer_perceptron5(x):\n",
    "    fc1 = tf.contrib.layers.fully_connected(x, HIDDEN_1, activation_fn=tf.nn.relu)\n",
    "    fc2 = tf.contrib.layers.fully_connected(fc1, HIDDEN_2, activation_fn=tf.nn.relu)\n",
    "    fc3 = tf.contrib.layers.fully_connected(fc2, HIDDEN_2, activation_fn=tf.nn.relu)\n",
    "    fc4 = tf.contrib.layers.fully_connected(fc3, HIDDEN_2, activation_fn=tf.nn.relu)\n",
    "    fc5 = tf.contrib.layers.fully_connected(fc4, HIDDEN_2, activation_fn=tf.nn.relu)\n",
    "    out = tf.contrib.layers.fully_connected(fc5, OUTPUTS, activation_fn=None)\n",
    "    return out\n",
    "\n",
    "\n",
    "def multilayer_perceptron10(x):\n",
    "    fc1 = tf.contrib.layers.fully_connected(x, HIDDEN_1, activation_fn=tf.nn.relu)\n",
    "    fc2 = tf.contrib.layers.fully_connected(fc1, HIDDEN_2, activation_fn=tf.nn.relu)\n",
    "    fc3 = tf.contrib.layers.fully_connected(fc2, HIDDEN_2, activation_fn=tf.nn.relu)\n",
    "    fc4 = tf.contrib.layers.fully_connected(fc3, HIDDEN_2, activation_fn=tf.nn.relu)\n",
    "    fc5 = tf.contrib.layers.fully_connected(fc4, HIDDEN_2, activation_fn=tf.nn.relu)\n",
    "    fc6 = tf.contrib.layers.fully_connected(fc5, HIDDEN_2, activation_fn=tf.nn.relu)\n",
    "    fc7 = tf.contrib.layers.fully_connected(fc6, HIDDEN_2, activation_fn=tf.nn.relu)\n",
    "    fc8 = tf.contrib.layers.fully_connected(fc7, HIDDEN_2, activation_fn=tf.nn.relu)\n",
    "    fc9 = tf.contrib.layers.fully_connected(fc8, HIDDEN_2, activation_fn=tf.nn.relu)\n",
    "    fc10 = tf.contrib.layers.fully_connected(fc9, HIDDEN_2, activation_fn=tf.nn.relu)\n",
    "    out = tf.contrib.layers.fully_connected(fc10, OUTPUTS, activation_fn=None)\n",
    "    return out\n",
    "\n",
    "\n",
    "y = multilayer_perceptron2(x_data)\n",
    "\n",
    "\n",
    "result = tf.nn.softmax(y)\n"
   ]
  },
  {
   "cell_type": "code",
   "execution_count": 26,
   "metadata": {
    "collapsed": true
   },
   "outputs": [],
   "source": [
    "# Training\n",
    "\n",
    "loss = tf.reduce_mean(tf.nn.softmax_cross_entropy_with_logits(logits=y, labels=y_data))\n",
    "tf.summary.scalar('loss', loss)\n",
    "optimizer = tf.train.AdamOptimizer(learning_rate)\n",
    "with tf.name_scope('train'):\n",
    "    train = optimizer.minimize(loss)\n",
    "\n",
    "    \n",
    "session = tf.Session(config=tf.ConfigProto(log_device_placement=True))\n",
    "session.run(tf.global_variables_initializer())\n",
    "merged = tf.summary.merge_all()\n",
    "summary_writer = tf.summary.FileWriter('./my_graph', session.graph)"
   ]
  },
  {
   "cell_type": "code",
   "execution_count": 27,
   "metadata": {
    "scrolled": true
   },
   "outputs": [
    {
     "name": "stdout",
     "output_type": "stream",
     "text": [
      "Step: 0000 error: 2.37557 \n",
      "Step: 0050 error: 0.375432 \n",
      "Step: 0100 error: 0.204736 \n",
      "Step: 0150 error: 0.209253 \n",
      "Step: 0200 error: 0.25964 \n",
      "Step: 0250 error: 0.179671 \n",
      "Step: 0300 error: 0.109057 \n",
      "Step: 0350 error: 0.131476 \n",
      "Step: 0400 error: 0.07469 \n",
      "Step: 0450 error: 0.0606815 \n",
      "Step: 0500 error: 0.158667 \n",
      "Step: 0550 error: 0.120338 \n",
      "Step: 0600 error: 0.0866696 \n",
      "Step: 0650 error: 0.0464836 \n",
      "Step: 0700 error: 0.169762 \n",
      "Step: 0750 error: 0.0708149 \n",
      "Step: 0800 error: 0.0607378 \n",
      "Step: 0850 error: 0.149655 \n",
      "Step: 0900 error: 0.0255741 \n",
      "Step: 0950 error: 0.0940635 \n",
      "Step: 1000 error: 0.156956 \n",
      "Step: 1050 error: 0.158101 \n",
      "Step: 1100 error: 0.0447659 \n",
      "Step: 1150 error: 0.0267015 \n",
      "Step: 1200 error: 0.0449522 \n",
      "Step: 1250 error: 0.0342147 \n",
      "Step: 1300 error: 0.0775534 \n",
      "Step: 1350 error: 0.0714634 \n",
      "Step: 1400 error: 0.0811402 \n",
      "Step: 1450 error: 0.053788 \n",
      "Step: 1500 error: 0.038386 \n",
      "Step: 1550 error: 0.116146 \n",
      "Step: 1600 error: 0.0182859 \n",
      "Step: 1650 error: 0.0267062 \n",
      "Step: 1700 error: 0.0730712 \n",
      "Step: 1750 error: 0.0575412 \n",
      "Step: 1800 error: 0.0424663 \n",
      "Step: 1850 error: 0.167708 \n",
      "Step: 1900 error: 0.086852 \n",
      "Step: 1950 error: 0.0441285 \n",
      "Step: 2000 error: 0.0146745 \n",
      "Step: 2050 error: 0.016527 \n",
      "Step: 2100 error: 0.0224795 \n",
      "Step: 2150 error: 0.0416318 \n",
      "Step: 2200 error: 0.0324317 \n",
      "Step: 2250 error: 0.019502 \n",
      "Step: 2300 error: 0.00812967 \n",
      "Step: 2350 error: 0.0151689 \n",
      "Step: 2400 error: 0.010477 \n",
      "Step: 2450 error: 0.0934353 \n",
      "Step: 2500 error: 0.00885868 \n",
      "Step: 2550 error: 0.0166282 \n",
      "Step: 2600 error: 0.0121399 \n",
      "Step: 2650 error: 0.0437061 \n",
      "Step: 2700 error: 0.0363058 \n",
      "Step: 2750 error: 0.0144457 \n",
      "Step: 2800 error: 0.0954112 \n",
      "Step: 2850 error: 0.00732585 \n",
      "Step: 2900 error: 0.0197006 \n",
      "Step: 2950 error: 0.0262958 \n",
      "Step: 3000 error: 0.0167793 \n",
      "Step: 3050 error: 0.0225716 \n",
      "Step: 3100 error: 0.0189708 \n",
      "Step: 3150 error: 0.131757 \n",
      "Step: 3200 error: 0.0115395 \n",
      "Step: 3250 error: 0.0512281 \n",
      "Step: 3300 error: 0.02343 \n",
      "Step: 3350 error: 0.0218919 \n",
      "Step: 3400 error: 0.0481425 \n",
      "Step: 3450 error: 0.00869782 \n",
      "Step: 3500 error: 0.0252345 \n",
      "Step: 3550 error: 0.0731122 \n",
      "Step: 3600 error: 0.00965967 \n",
      "Step: 3650 error: 0.00907754 \n",
      "Step: 3700 error: 0.0455609 \n",
      "Step: 3750 error: 0.00266947 \n",
      "Step: 3800 error: 0.122808 \n",
      "Step: 3850 error: 0.0272519 \n",
      "Step: 3900 error: 0.0175612 \n",
      "Step: 3950 error: 0.0139563 \n",
      "Step: 4000 error: 0.0059319 \n",
      "Step: 4050 error: 0.0110373 \n",
      "Step: 4100 error: 0.0067432 \n",
      "Step: 4150 error: 0.0223337 \n",
      "Step: 4200 error: 0.00713663 \n",
      "Step: 4250 error: 0.00946265 \n",
      "Step: 4300 error: 0.00879534 \n",
      "Step: 4350 error: 0.0168519 \n",
      "Step: 4400 error: 0.0132273 \n",
      "Step: 4450 error: 0.00264632 \n",
      "Step: 4500 error: 0.00541572 \n",
      "Step: 4550 error: 0.00522505 \n",
      "Step: 4600 error: 0.0236088 \n",
      "Step: 4650 error: 0.00725335 \n",
      "Step: 4700 error: 0.0315379 \n",
      "Step: 4750 error: 0.00997396 \n",
      "Step: 4800 error: 0.00971042 \n",
      "Step: 4850 error: 0.0327624 \n",
      "Step: 4900 error: 0.049848 \n",
      "Step: 4950 error: 0.00267139 \n",
      "Step: 5000 error: 0.0300613 \n",
      "Step: 5050 error: 0.0100583 \n",
      "Step: 5100 error: 0.007498 \n",
      "Step: 5150 error: 0.0479126 \n",
      "Step: 5200 error: 0.00532129 \n",
      "Step: 5250 error: 0.0174181 \n",
      "Step: 5300 error: 0.00885549 \n",
      "Step: 5350 error: 0.00442364 \n",
      "Step: 5400 error: 0.00790887 \n",
      "Step: 5450 error: 0.0444299 \n",
      "Step: 5500 error: 0.000916533 \n",
      "Step: 5550 error: 0.00466042 \n",
      "Step: 5600 error: 0.00418114 \n",
      "Step: 5650 error: 0.0221271 \n",
      "Step: 5700 error: 0.0188173 \n",
      "Step: 5750 error: 0.00300141 \n",
      "Step: 5800 error: 0.00952411 \n",
      "Step: 5850 error: 0.00533386 \n",
      "Step: 5900 error: 0.00137591 \n",
      "Step: 5950 error: 0.0125689 \n",
      "Step: 6000 error: 0.00305487 \n",
      "Step: 6050 error: 0.0149864 \n",
      "Step: 6100 error: 0.0952814 \n",
      "Step: 6150 error: 0.0168297 \n",
      "Step: 6200 error: 0.000600753 \n",
      "Step: 6250 error: 0.00177324 \n",
      "Step: 6300 error: 0.0231985 \n",
      "Step: 6350 error: 0.0110062 \n",
      "Step: 6400 error: 0.00355264 \n",
      "Step: 6450 error: 0.0173013 \n",
      "Step: 6500 error: 0.0105408 \n",
      "Step: 6550 error: 0.0841302 \n",
      "Step: 6600 error: 0.000322491 \n",
      "Step: 6650 error: 0.00229924 \n",
      "Step: 6700 error: 0.00440967 \n",
      "Step: 6750 error: 0.00125825 \n",
      "Step: 6800 error: 0.0165999 \n",
      "Step: 6850 error: 0.000876052 \n",
      "Step: 6900 error: 0.0292293 \n",
      "Step: 6950 error: 0.00459964 \n",
      "Step: 7000 error: 0.000543094 \n",
      "Step: 7050 error: 0.00474651 \n",
      "Step: 7100 error: 0.00623796 \n",
      "Step: 7150 error: 0.0115782 \n",
      "Step: 7200 error: 0.0270632 \n",
      "Step: 7250 error: 0.000955267 \n",
      "Step: 7300 error: 0.0153518 \n",
      "Step: 7350 error: 0.00427861 \n",
      "Step: 7400 error: 0.0648498 \n",
      "Step: 7450 error: 0.00548864 \n",
      "Step: 7500 error: 0.00233251 \n",
      "Step: 7550 error: 0.0101292 \n",
      "Step: 7600 error: 0.000509391 \n",
      "Step: 7650 error: 0.0134527 \n",
      "Step: 7700 error: 0.00502116 \n",
      "Step: 7750 error: 0.0207143 \n",
      "Step: 7800 error: 0.0379136 \n",
      "Step: 7850 error: 0.00236148 \n",
      "Step: 7900 error: 0.00161542 \n",
      "Step: 7950 error: 0.0134823 \n",
      "Step: 8000 error: 0.0309833 \n",
      "Step: 8050 error: 0.00283572 \n",
      "Step: 8100 error: 0.000577118 \n",
      "Step: 8150 error: 0.00745087 \n",
      "Step: 8200 error: 0.0068106 \n",
      "Step: 8250 error: 0.0105662 \n",
      "Step: 8300 error: 0.00206311 \n",
      "Step: 8350 error: 0.00277379 \n",
      "Step: 8400 error: 0.00158738 \n",
      "Step: 8450 error: 0.00240852 \n",
      "Step: 8500 error: 0.00149467 \n",
      "Step: 8550 error: 0.0244222 \n",
      "Step: 8600 error: 0.00290922 \n",
      "Step: 8650 error: 0.00163427 \n",
      "Step: 8700 error: 0.000575702 \n",
      "Step: 8750 error: 0.0116835 \n",
      "Step: 8800 error: 0.00621663 \n",
      "Step: 8850 error: 0.00513404 \n",
      "Step: 8900 error: 0.0058017 \n",
      "Step: 8950 error: 0.000442417 \n",
      "Step: 9000 error: 0.00902443 \n",
      "Step: 9050 error: 0.00396896 \n",
      "Step: 9100 error: 0.0174494 \n",
      "Step: 9150 error: 0.0221951 \n",
      "Step: 9200 error: 0.00717213 \n",
      "Step: 9250 error: 0.00192494 \n",
      "Step: 9300 error: 0.036508 \n",
      "Step: 9350 error: 0.00522085 \n",
      "Step: 9400 error: 0.00354093 \n",
      "Step: 9450 error: 0.00402152 \n",
      "Step: 9500 error: 0.00394163 \n",
      "Step: 9550 error: 8.3995e-05 \n",
      "Step: 9600 error: 5.16911e-05 \n",
      "Step: 9650 error: 0.0011128 \n",
      "Step: 9700 error: 0.0155495 \n",
      "Step: 9750 error: 0.000310933 \n",
      "Step: 9800 error: 0.000356995 \n",
      "Step: 9850 error: 0.00174262 \n",
      "Step: 9900 error: 0.000263342 \n",
      "Step: 9950 error: 0.000318315 \n"
     ]
    }
   ],
   "source": [
    "for step in range(epochs):\n",
    "    #get a random batch of data\n",
    "    batch_x, batch_y = mnist.train.next_batch(batch_size)\n",
    "    \n",
    "    #run the training and the loss\n",
    "    out_training , out_loss, out_merged = session.run([train,loss, merged],feed_dict={x_data: batch_x, y_data: batch_y})\n",
    "\n",
    "    if step % display_epochs == 0:\n",
    "        summary_writer.add_summary(out_merged,step)\n",
    "        print(\"Step: %04d error: %g \"%(step,out_loss))"
   ]
  },
  {
   "cell_type": "code",
   "execution_count": 28,
   "metadata": {},
   "outputs": [
    {
     "name": "stdout",
     "output_type": "stream",
     "text": [
      "Complete\n",
      "Accuracy: 98.02%\n"
     ]
    }
   ],
   "source": [
    "print \"Complete\"\n",
    "correct_prediction = tf.equal(tf.argmax(y, 1), tf.argmax(y_data, 1))\n",
    "# Calculate accuracy\n",
    "accuracy = tf.reduce_mean(tf.cast(correct_prediction, \"float\"))\n",
    "accuracy = session.run(accuracy,feed_dict={x_data: mnist.test.images, y_data: mnist.test.labels})\n",
    "print \"Accuracy:\", \"{:.2%}\".format(accuracy)\n"
   ]
  },
  {
   "cell_type": "code",
   "execution_count": 29,
   "metadata": {},
   "outputs": [
    {
     "name": "stdout",
     "output_type": "stream",
     "text": [
      "Actual: 0  Predicted:  0\n"
     ]
    },
    {
     "data": {
      "image/png": "[encoded data removed]",
      "text/plain": [
       "<matplotlib.figure.Figure at 0x7fbd46116ad0>"
      ]
     },
     "metadata": {},
     "output_type": "display_data"
    },
    {
     "data": {
      "image/png": "[encoded data removed]",
      "text/plain": [
       "<matplotlib.figure.Figure at 0x7fbd45ec95d0>"
      ]
     },
     "metadata": {},
     "output_type": "display_data"
    },
    {
     "name": "stdout",
     "output_type": "stream",
     "text": [
      "Actual: 6  Predicted:  6\n"
     ]
    },
    {
     "data": {
      "image/png": "[encoded data removed]",
      "text/plain": [
       "<matplotlib.figure.Figure at 0x7fbd4634c510>"
      ]
     },
     "metadata": {},
     "output_type": "display_data"
    },
    {
     "data": {
      "image/png": "[encoded data removed]",
      "text/plain": [
       "<matplotlib.figure.Figure at 0x7fbd45cc83d0>"
      ]
     },
     "metadata": {},
     "output_type": "display_data"
    },
    {
     "name": "stdout",
     "output_type": "stream",
     "text": [
      "Actual: 8  Predicted:  8\n"
     ]
    },
    {
     "data": {
      "image/png": "[encoded data removed]",
      "text/plain": [
       "<matplotlib.figure.Figure at 0x7fbd4628af90>"
      ]
     },
     "metadata": {},
     "output_type": "display_data"
    },
    {
     "data": {
      "image/png": "[encoded data removed]",
      "text/plain": [
       "<matplotlib.figure.Figure at 0x7fbd45c2c190>"
      ]
     },
     "metadata": {},
     "output_type": "display_data"
    },
    {
     "name": "stdout",
     "output_type": "stream",
     "text": [
      "Actual: 0  Predicted:  0\n"
     ]
    },
    {
     "data": {
      "image/png": "[encoded data removed]",
      "text/plain": [
       "<matplotlib.figure.Figure at 0x7fbd460cad50>"
      ]
     },
     "metadata": {},
     "output_type": "display_data"
    },
    {
     "data": {
      "image/png": "[encoded data removed]",
      "text/plain": [
       "<matplotlib.figure.Figure at 0x7fbd459ea9d0>"
      ]
     },
     "metadata": {},
     "output_type": "display_data"
    },
    {
     "name": "stdout",
     "output_type": "stream",
     "text": [
      "Actual: 6  Predicted:  6\n"
     ]
    },
    {
     "data": {
      "image/png": "[encoded data removed]",
      "text/plain": [
       "<matplotlib.figure.Figure at 0x7fbd45928190>"
      ]
     },
     "metadata": {},
     "output_type": "display_data"
    },
    {
     "data": {
      "image/png": "[encoded data removed]",
      "text/plain": [
       "<matplotlib.figure.Figure at 0x7fbd445c8850>"
      ]
     },
     "metadata": {},
     "output_type": "display_data"
    },
    {
     "name": "stdout",
     "output_type": "stream",
     "text": [
      "Actual: 1  Predicted:  1\n"
     ]
    },
    {
     "data": {
      "image/png": "[encoded data removed]",
      "text/plain": [
       "<matplotlib.figure.Figure at 0x7fbd45998050>"
      ]
     },
     "metadata": {},
     "output_type": "display_data"
    },
    {
     "data": {
      "image/png": "[encoded data removed]",
      "text/plain": [
       "<matplotlib.figure.Figure at 0x7fbd45d7f750>"
      ]
     },
     "metadata": {},
     "output_type": "display_data"
    },
    {
     "name": "stdout",
     "output_type": "stream",
     "text": [
      "Actual: 2  Predicted:  2\n"
     ]
    },
    {
     "data": {
      "image/png": "[encoded data removed]",
      "text/plain": [
       "<matplotlib.figure.Figure at 0x7fbd45aecc90>"
      ]
     },
     "metadata": {},
     "output_type": "display_data"
    },
    {
     "data": {
      "image/png": "[encoded data removed]",
      "text/plain": [
       "<matplotlib.figure.Figure at 0x7fbd459fe3d0>"
      ]
     },
     "metadata": {},
     "output_type": "display_data"
    },
    {
     "name": "stdout",
     "output_type": "stream",
     "text": [
      "Actual: 7  Predicted:  7\n"
     ]
    },
    {
     "data": {
      "image/png": "[encoded data removed]",
      "text/plain": [
       "<matplotlib.figure.Figure at 0x7fbd4cc728d0>"
      ]
     },
     "metadata": {},
     "output_type": "display_data"
    },
    {
     "data": {
      "image/png": "[encoded data removed]",
      "text/plain": [
       "<matplotlib.figure.Figure at 0x7fbd45bd51d0>"
      ]
     },
     "metadata": {},
     "output_type": "display_data"
    },
    {
     "name": "stdout",
     "output_type": "stream",
     "text": [
      "Actual: 0  Predicted:  0\n"
     ]
    },
    {
     "data": {
      "image/png": "[encoded data removed]",
      "text/plain": [
       "<matplotlib.figure.Figure at 0x7fbd49897ed0>"
      ]
     },
     "metadata": {},
     "output_type": "display_data"
    },
    {
     "data": {
      "image/png": "[encoded data removed]",
      "text/plain": [
       "<matplotlib.figure.Figure at 0x7fbd46bf6f50>"
      ]
     },
     "metadata": {},
     "output_type": "display_data"
    },
    {
     "name": "stdout",
     "output_type": "stream",
     "text": [
      "Actual: 2  Predicted:  2\n"
     ]
    },
    {
     "data": {
      "image/png": "[encoded data removed]",
      "text/plain": [
       "<matplotlib.figure.Figure at 0x7fbd4459f4d0>"
      ]
     },
     "metadata": {},
     "output_type": "display_data"
    },
    {
     "data": {
      "image/png": "[encoded data removed]",
      "text/plain": [
       "<matplotlib.figure.Figure at 0x7fbd4598abd0>"
      ]
     },
     "metadata": {},
     "output_type": "display_data"
    }
   ],
   "source": [
    "#test some inputs\n",
    "for i in range(10):\n",
    "    x1, y1 = mnist.test.next_batch(1)\n",
    "    bar_graph(x1,y1)\n"
   ]
  },
  {
   "cell_type": "markdown",
   "metadata": {
    "collapsed": true
   },
   "source": [
    "## Bad Inputs\n",
    "\n",
    "We will change the code to simplify even more and add some Tensorboard content."
   ]
  },
  {
   "cell_type": "code",
   "execution_count": 31,
   "metadata": {},
   "outputs": [
    {
     "name": "stdout",
     "output_type": "stream",
     "text": [
      "Actual: 0  Predicted:  5\n"
     ]
    },
    {
     "data": {
      "image/png": "[encoded data removed]",
      "text/plain": [
       "<matplotlib.figure.Figure at 0x7fbd44486150>"
      ]
     },
     "metadata": {},
     "output_type": "display_data"
    },
    {
     "data": {
      "image/png": "[encoded data removed]",
      "text/plain": [
       "<matplotlib.figure.Figure at 0x7fbd4cc72f50>"
      ]
     },
     "metadata": {},
     "output_type": "display_data"
    }
   ],
   "source": [
    "a = np.random.uniform(size=(1,784), low=0, high=1)  #generate random data\n",
    "b = [[1,0,0,0,0,0,0,0,0,0]]    # pass in 0\n",
    "bar_graph(a,b)"
   ]
  },
  {
   "cell_type": "code",
   "execution_count": 16,
   "metadata": {
    "collapsed": true
   },
   "outputs": [],
   "source": [
    "#close previous session \n",
    "session.close()\n"
   ]
  },
  {
   "cell_type": "code",
   "execution_count": null,
   "metadata": {
    "collapsed": true
   },
   "outputs": [],
   "source": []
  },
  {
   "cell_type": "code",
   "execution_count": null,
   "metadata": {
    "collapsed": true
   },
   "outputs": [],
   "source": []
  },
  {
   "cell_type": "code",
   "execution_count": null,
   "metadata": {
    "collapsed": true
   },
   "outputs": [],
   "source": []
  },
  {
   "cell_type": "code",
   "execution_count": null,
   "metadata": {
    "collapsed": true
   },
   "outputs": [],
   "source": []
  }
 ],
 "metadata": {
  "kernelspec": {
   "display_name": "Python 2",
   "language": "python",
   "name": "python2"
  },
  "language_info": {
   "codemirror_mode": {
    "name": "ipython",
    "version": 2
   },
   "file_extension": ".py",
   "mimetype": "text/x-python",
   "name": "python",
   "nbconvert_exporter": "python",
   "pygments_lexer": "ipython2",
   "version": "2.7.12"
  }
 },
 "nbformat": 4,
 "nbformat_minor": 2
}
