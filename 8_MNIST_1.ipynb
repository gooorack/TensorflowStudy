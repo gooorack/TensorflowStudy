{
 "cells": [
  {
   "cell_type": "markdown",
   "metadata": {
    "collapsed": true
   },
   "source": [
    "## MNIST 1"
   ]
  },
  {
   "cell_type": "markdown",
   "metadata": {},
   "source": [
    "The MNIST dataset consists of images of handwritten digits comprising of 55,000 training examples, 10,000 training examples and 5000 validation examples.  They originate from http://yann.lecun.com/exdb/mnist/\n",
    "\n",
    "The dataset has been processed so all of the images are size-normalized, centered and changed to a fixed size image of 28 x 28 pixels greyscale with each pixel having a value between 0 and 1.  \n",
    "\n",
    "The current state of the art error rate is well below 1% (0.21% ICML 2013)\n",
    "\n",
    "Example image: \n",
    "![alt text](https://www.tensorflow.org/images/MNIST-Matrix.png \"From Tensorflow.org\")\n",
    "\n",
    "\n",
    "\n",
    "Our aim is to train the network to accuratly predict a label (0->9) from an input image"
   ]
  },
  {
   "cell_type": "markdown",
   "metadata": {
    "collapsed": true
   },
   "source": [
    "### Import libraries"
   ]
  },
  {
   "cell_type": "code",
   "execution_count": 6,
   "metadata": {
    "collapsed": true
   },
   "outputs": [],
   "source": [
    "import numpy as np\n",
    "import tensorflow as tf\n",
    "import matplotlib.pyplot as plt\n",
    "\n",
    "%matplotlib inline"
   ]
  },
  {
   "cell_type": "markdown",
   "metadata": {},
   "source": [
    "### Get Data\n",
    "Tensorflow gives us a prebuilt function to download the MNIST dataset from the web.\n",
    "\n",
    "These are store in training and test variables.\n",
    "The reason we use separate training and test is to make sure the system learns and doesnt simply memorise the task.  So once it is trained on the training dataset we will test how it goes on data it has never seen before.  The test dataset.\n",
    "\n",
    "This will not be a state of the art system but it will help introduce you to working with real data.\n",
    "\n",
    "Softmax regression"
   ]
  },
  {
   "cell_type": "code",
   "execution_count": 7,
   "metadata": {},
   "outputs": [
    {
     "name": "stdout",
     "output_type": "stream",
     "text": [
      "Extracting /tmp/data/train-images-idx3-ubyte.gz\n",
      "Extracting /tmp/data/train-labels-idx1-ubyte.gz\n",
      "Extracting /tmp/data/t10k-images-idx3-ubyte.gz\n",
      "Extracting /tmp/data/t10k-labels-idx1-ubyte.gz\n"
     ]
    }
   ],
   "source": [
    "# Import MNIST\n",
    "from tensorflow.examples.tutorials.mnist import input_data\n",
    "mnist = input_data.read_data_sets(\"/tmp/data/\", one_hot=True)\n",
    "\n",
    "# Load data\n",
    "X_train = mnist.train.images\n",
    "Y_train = mnist.train.labels\n",
    "X_test = mnist.test.images\n",
    "Y_test = mnist.test.labels\n",
    "X_validation = mnist.validation.images\n",
    "Y_validation = mnist.validation.labels"
   ]
  },
  {
   "cell_type": "code",
   "execution_count": 8,
   "metadata": {},
   "outputs": [
    {
     "name": "stdout",
     "output_type": "stream",
     "text": [
      "Train:  55000\n",
      "Test:  10000\n",
      "Validation:  5000\n",
      "[ 0,  1,  2,  3,  4,  5,  6,  7,  8,  9 ]\n",
      "[ 0.  0.  0.  0.  0.  0.  0.  1.  0.  0.]\n",
      "[ 0.          0.          0.          0.          0.          0.          0.\n",
      "  0.          0.          0.          0.          0.          0.          0.\n",
      "  0.          0.          0.          0.          0.          0.          0.\n",
      "  0.          0.          0.          0.          0.          0.          0.\n",
      "  0.          0.          0.          0.          0.          0.          0.\n",
      "  0.          0.          0.          0.          0.          0.          0.\n",
      "  0.          0.          0.          0.          0.          0.          0.\n",
      "  0.          0.          0.          0.          0.          0.          0.\n",
      "  0.          0.          0.          0.          0.          0.          0.\n",
      "  0.          0.          0.          0.          0.          0.          0.\n",
      "  0.          0.          0.          0.          0.          0.          0.\n",
      "  0.          0.          0.          0.          0.          0.          0.\n",
      "  0.          0.          0.          0.          0.          0.          0.\n",
      "  0.          0.          0.          0.          0.          0.          0.\n",
      "  0.          0.          0.          0.          0.          0.          0.\n",
      "  0.          0.          0.          0.          0.          0.          0.\n",
      "  0.          0.          0.          0.          0.          0.          0.\n",
      "  0.          0.          0.          0.          0.          0.          0.\n",
      "  0.          0.          0.          0.          0.          0.          0.\n",
      "  0.          0.          0.          0.          0.          0.          0.\n",
      "  0.          0.          0.          0.          0.          0.          0.\n",
      "  0.          0.          0.          0.          0.          0.          0.\n",
      "  0.          0.          0.          0.          0.          0.          0.\n",
      "  0.          0.          0.          0.          0.          0.          0.\n",
      "  0.          0.          0.          0.          0.          0.          0.\n",
      "  0.          0.          0.          0.          0.          0.          0.\n",
      "  0.          0.          0.          0.          0.          0.          0.\n",
      "  0.          0.          0.          0.          0.          0.          0.\n",
      "  0.          0.          0.          0.          0.          0.          0.\n",
      "  0.          0.          0.          0.          0.38039219  0.37647063\n",
      "  0.3019608   0.46274513  0.2392157   0.          0.          0.          0.\n",
      "  0.          0.          0.          0.          0.          0.          0.\n",
      "  0.          0.          0.          0.          0.35294119  0.5411765\n",
      "  0.92156869  0.92156869  0.92156869  0.92156869  0.92156869  0.92156869\n",
      "  0.98431379  0.98431379  0.97254908  0.99607849  0.96078438  0.92156869\n",
      "  0.74509805  0.08235294  0.          0.          0.          0.          0.\n",
      "  0.          0.          0.          0.          0.          0.\n",
      "  0.54901963  0.98431379  0.99607849  0.99607849  0.99607849  0.99607849\n",
      "  0.99607849  0.99607849  0.99607849  0.99607849  0.99607849  0.99607849\n",
      "  0.99607849  0.99607849  0.99607849  0.99607849  0.74117649  0.09019608\n",
      "  0.          0.          0.          0.          0.          0.          0.\n",
      "  0.          0.          0.          0.88627458  0.99607849  0.81568635\n",
      "  0.78039223  0.78039223  0.78039223  0.78039223  0.54509807  0.2392157\n",
      "  0.2392157   0.2392157   0.2392157   0.2392157   0.50196081  0.8705883\n",
      "  0.99607849  0.99607849  0.74117649  0.08235294  0.          0.          0.\n",
      "  0.          0.          0.          0.          0.          0.\n",
      "  0.14901961  0.32156864  0.0509804   0.          0.          0.          0.\n",
      "  0.          0.          0.          0.          0.          0.          0.\n",
      "  0.13333334  0.83529419  0.99607849  0.99607849  0.45098042  0.          0.\n",
      "  0.          0.          0.          0.          0.          0.          0.\n",
      "  0.          0.          0.          0.          0.          0.          0.\n",
      "  0.          0.          0.          0.          0.          0.          0.\n",
      "  0.          0.32941177  0.99607849  0.99607849  0.91764712  0.          0.\n",
      "  0.          0.          0.          0.          0.          0.          0.\n",
      "  0.          0.          0.          0.          0.          0.          0.\n",
      "  0.          0.          0.          0.          0.          0.          0.\n",
      "  0.          0.32941177  0.99607849  0.99607849  0.91764712  0.          0.\n",
      "  0.          0.          0.          0.          0.          0.          0.\n",
      "  0.          0.          0.          0.          0.          0.          0.\n",
      "  0.          0.          0.          0.          0.          0.          0.\n",
      "  0.41568631  0.6156863   0.99607849  0.99607849  0.95294124  0.20000002\n",
      "  0.          0.          0.          0.          0.          0.          0.\n",
      "  0.          0.          0.          0.          0.          0.          0.\n",
      "  0.          0.          0.          0.09803922  0.45882356  0.89411771\n",
      "  0.89411771  0.89411771  0.99215692  0.99607849  0.99607849  0.99607849\n",
      "  0.99607849  0.94117653  0.          0.          0.          0.          0.\n",
      "  0.          0.          0.          0.          0.          0.          0.\n",
      "  0.          0.          0.          0.26666668  0.4666667   0.86274517\n",
      "  0.99607849  0.99607849  0.99607849  0.99607849  0.99607849  0.99607849\n",
      "  0.99607849  0.99607849  0.99607849  0.55686277  0.          0.          0.\n",
      "  0.          0.          0.          0.          0.          0.          0.\n",
      "  0.          0.          0.          0.14509805  0.73333335  0.99215692\n",
      "  0.99607849  0.99607849  0.99607849  0.87450987  0.80784321  0.80784321\n",
      "  0.29411766  0.26666668  0.84313732  0.99607849  0.99607849  0.45882356\n",
      "  0.          0.          0.          0.          0.          0.          0.\n",
      "  0.          0.          0.          0.          0.          0.44313729\n",
      "  0.8588236   0.99607849  0.94901967  0.89019614  0.45098042  0.34901962\n",
      "  0.12156864  0.          0.          0.          0.          0.7843138\n",
      "  0.99607849  0.9450981   0.16078432  0.          0.          0.          0.\n",
      "  0.          0.          0.          0.          0.          0.          0.\n",
      "  0.          0.66274512  0.99607849  0.6901961   0.24313727  0.          0.\n",
      "  0.          0.          0.          0.          0.          0.18823531\n",
      "  0.90588242  0.99607849  0.91764712  0.          0.          0.          0.\n",
      "  0.          0.          0.          0.          0.          0.          0.\n",
      "  0.          0.          0.07058824  0.48627454  0.          0.          0.\n",
      "  0.          0.          0.          0.          0.          0.\n",
      "  0.32941177  0.99607849  0.99607849  0.65098041  0.          0.          0.\n",
      "  0.          0.          0.          0.          0.          0.          0.\n",
      "  0.          0.          0.          0.          0.          0.          0.\n",
      "  0.          0.          0.          0.          0.          0.          0.\n",
      "  0.54509807  0.99607849  0.9333334   0.22352943  0.          0.          0.\n",
      "  0.          0.          0.          0.          0.          0.          0.\n",
      "  0.          0.          0.          0.          0.          0.          0.\n",
      "  0.          0.          0.          0.          0.          0.\n",
      "  0.82352948  0.98039222  0.99607849  0.65882355  0.          0.          0.\n",
      "  0.          0.          0.          0.          0.          0.          0.\n",
      "  0.          0.          0.          0.          0.          0.          0.\n",
      "  0.          0.          0.          0.          0.          0.          0.\n",
      "  0.94901967  0.99607849  0.93725497  0.22352943  0.          0.          0.\n",
      "  0.          0.          0.          0.          0.          0.          0.\n",
      "  0.          0.          0.          0.          0.          0.          0.\n",
      "  0.          0.          0.          0.          0.          0.\n",
      "  0.34901962  0.98431379  0.9450981   0.33725491  0.          0.          0.\n",
      "  0.          0.          0.          0.          0.          0.          0.\n",
      "  0.          0.          0.          0.          0.          0.          0.\n",
      "  0.          0.          0.          0.          0.          0.\n",
      "  0.01960784  0.80784321  0.96470594  0.6156863   0.          0.          0.\n",
      "  0.          0.          0.          0.          0.          0.          0.\n",
      "  0.          0.          0.          0.          0.          0.          0.\n",
      "  0.          0.          0.          0.          0.          0.          0.\n",
      "  0.01568628  0.45882356  0.27058825  0.          0.          0.          0.\n",
      "  0.          0.          0.          0.          0.          0.          0.\n",
      "  0.          0.          0.          0.          0.          0.          0.\n",
      "  0.          0.          0.          0.          0.          0.          0.\n",
      "  0.          0.          0.          0.          0.          0.          0.\n",
      "  0.          0.          0.          0.          0.          0.          0.        ]\n"
     ]
    }
   ],
   "source": [
    "print \"Train: \" , len(X_train)\n",
    "print \"Test: \" ,len(X_test)\n",
    "print \"Validation: \",len(X_validation)\n",
    "\n",
    "# This is what the data looks like\n",
    "print(\"[ 0,  1,  2,  3,  4,  5,  6,  7,  8,  9 ]\")\n",
    "print(Y_train[0])\n",
    "print(X_train[0])\n",
    "\n"
   ]
  },
  {
   "cell_type": "code",
   "execution_count": 9,
   "metadata": {},
   "outputs": [
    {
     "data": {
      "image/png": "[encoded data removed]",
      "text/plain": [
       "<matplotlib.figure.Figure at 0x7fb35afa0b90>"
      ]
     },
     "metadata": {},
     "output_type": "display_data"
    },
    {
     "data": {
      "image/png": "[encoded data removed]",
      "text/plain": [
       "<matplotlib.figure.Figure at 0x7fb35e310090>"
      ]
     },
     "metadata": {},
     "output_type": "display_data"
    },
    {
     "data": {
      "image/png": "[encoded data removed]",
      "text/plain": [
       "<matplotlib.figure.Figure at 0x7fb358ee9250>"
      ]
     },
     "metadata": {},
     "output_type": "display_data"
    },
    {
     "data": {
      "image/png": "[encoded data removed]",
      "text/plain": [
       "<matplotlib.figure.Figure at 0x7fb358e1ce10>"
      ]
     },
     "metadata": {},
     "output_type": "display_data"
    },
    {
     "data": {
      "image/png": "[encoded data removed]",
      "text/plain": [
       "<matplotlib.figure.Figure at 0x7fb358d83450>"
      ]
     },
     "metadata": {},
     "output_type": "display_data"
    }
   ],
   "source": [
    "def display_mnist(input_array, invert = False):\n",
    "    first_image = []\n",
    "    if invert:\n",
    "        first_image = np.array(input_array*255, dtype='uint8')\n",
    "    else:\n",
    "        first_image = np.array((1-input_array)*255, dtype='uint8')\n",
    "\n",
    "    pixels = first_image.reshape((28, 28))\n",
    "    plt.imshow(pixels, cmap='gray')\n",
    "    plt.show()\n",
    "\n",
    "# Call function on different training data\n",
    "display_mnist(X_train[1],True)\n",
    "display_mnist(X_train[1])\n",
    "\n",
    "display_mnist(X_train[2])\n",
    "display_mnist(X_train[3])\n",
    "display_mnist(X_train[4])\n"
   ]
  },
  {
   "cell_type": "code",
   "execution_count": 10,
   "metadata": {
    "collapsed": true
   },
   "outputs": [],
   "source": [
    "#Network Parameters\n",
    "INPUTS = 784       # 28 x 28 = 784 input pixels\n",
    "HIDDEN_1 = 200      # we will start with a NN with 1 hidden layer and 40 nodes.\n",
    "OUTPUTS = 10       # 10 possible outputs - 0->9\n",
    "\n",
    "#Training Parameters\n",
    "epochs = 10000          \n",
    "display_epochs = 50    \n",
    "batch_size = 1000   \n",
    "learning_rate = 0.001      "
   ]
  },
  {
   "cell_type": "code",
   "execution_count": 11,
   "metadata": {
    "collapsed": true
   },
   "outputs": [],
   "source": [
    "#Use placeholders to pass our input and output data into the system\n",
    "x_data = tf.placeholder(dtype=tf.float32,shape=[None, INPUTS],name=\"input\")\n",
    "y_data = tf.placeholder(dtype=tf.float32,shape=[None, OUTPUTS],name=\"output\")"
   ]
  },
  {
   "cell_type": "code",
   "execution_count": 12,
   "metadata": {
    "collapsed": true
   },
   "outputs": [],
   "source": [
    "#Structure\n",
    "weight1 = tf.random_normal([INPUTS, HIDDEN_1], mean=0.5, stddev=0.7)\n",
    "weight1 = tf.Variable(weight1, name='W1')\n",
    "\n",
    "bias1 = tf.random_normal([HIDDEN_1], mean=0.5, stddev=0.7)\n",
    "bias1 = tf.Variable(bias1, name='B1')\n",
    "\n",
    "weight2 = tf.random_normal([HIDDEN_1, OUTPUTS], mean=0.5, stddev=0.7)\n",
    "weight2 = tf.Variable(weight2, name='W2')\n",
    "\n",
    "bias2 = tf.random_normal([OUTPUTS], mean=0.5, stddev=0.7)\n",
    "bias2 = tf.Variable(bias2, name='B2')\n",
    "\n",
    "#input to hidden\n",
    "hidden1 = tf.nn.relu(tf.matmul(x_data, weight1) + bias1)\n",
    "\n",
    "#hidden to output\n",
    "y = tf.matmul(hidden1, weight2) + bias2\n",
    "\n",
    "#apply final activation\n",
    "result = tf.nn.softmax(y)"
   ]
  },
  {
   "cell_type": "code",
   "execution_count": 13,
   "metadata": {
    "collapsed": true
   },
   "outputs": [],
   "source": [
    "#loss and training\n",
    "loss = tf.reduce_mean(tf.nn.softmax_cross_entropy_with_logits(logits=y, labels=y_data))\n",
    "\n",
    "optimizer = tf.train.AdamOptimizer(learning_rate)\n",
    "train = optimizer.minimize(loss)\n"
   ]
  },
  {
   "cell_type": "code",
   "execution_count": 14,
   "metadata": {
    "collapsed": true
   },
   "outputs": [],
   "source": [
    "init = tf.global_variables_initializer()\n",
    "session = tf.Session(config=tf.ConfigProto(log_device_placement=True))\n",
    "session.run(init)"
   ]
  },
  {
   "cell_type": "markdown",
   "metadata": {},
   "source": [
    "Instead of processing all 55,000 training examples every step we chose a random sample.  A batch.  Of training data.  This speeds up processing."
   ]
  },
  {
   "cell_type": "code",
   "execution_count": 15,
   "metadata": {},
   "outputs": [
    {
     "name": "stdout",
     "output_type": "stream",
     "text": [
      "Step: 0000 error: 942.332 \n",
      "Step: 0050 error: 166.208 \n",
      "Step: 0100 error: 26.0382 \n",
      "Step: 0150 error: 14.9305 \n",
      "Step: 0200 error: 10.7161 \n",
      "Step: 0250 error: 8.72051 \n",
      "Step: 0300 error: 7.55815 \n",
      "Step: 0350 error: 6.20647 \n",
      "Step: 0400 error: 5.03782 \n",
      "Step: 0450 error: 6.02623 \n",
      "Step: 0500 error: 4.45626 \n",
      "Step: 0550 error: 4.24145 \n",
      "Step: 0600 error: 4.38038 \n",
      "Step: 0650 error: 4.14162 \n",
      "Step: 0700 error: 3.7835 \n",
      "Step: 0750 error: 3.77452 \n",
      "Step: 0800 error: 3.43648 \n",
      "Step: 0850 error: 2.93171 \n",
      "Step: 0900 error: 3.08726 \n",
      "Step: 0950 error: 2.86989 \n",
      "Step: 1000 error: 3.47689 \n",
      "Step: 1050 error: 3.21806 \n",
      "Step: 1100 error: 2.81389 \n",
      "Step: 1150 error: 2.61996 \n",
      "Step: 1200 error: 2.76168 \n",
      "Step: 1250 error: 2.16799 \n",
      "Step: 1300 error: 1.96595 \n",
      "Step: 1350 error: 2.70449 \n",
      "Step: 1400 error: 1.92502 \n",
      "Step: 1450 error: 2.10182 \n",
      "Step: 1500 error: 1.87298 \n",
      "Step: 1550 error: 1.75721 \n",
      "Step: 1600 error: 2.08316 \n",
      "Step: 1650 error: 1.44086 \n",
      "Step: 1700 error: 2.07904 \n",
      "Step: 1750 error: 1.63605 \n",
      "Step: 1800 error: 1.95268 \n",
      "Step: 1850 error: 1.66927 \n",
      "Step: 1900 error: 2.0437 \n",
      "Step: 1950 error: 1.7166 \n",
      "Step: 2000 error: 1.84755 \n",
      "Step: 2050 error: 1.80632 \n",
      "Step: 2100 error: 1.57751 \n",
      "Step: 2150 error: 1.96799 \n",
      "Step: 2200 error: 1.27361 \n",
      "Step: 2250 error: 1.36254 \n",
      "Step: 2300 error: 1.3011 \n",
      "Step: 2350 error: 1.64997 \n",
      "Step: 2400 error: 1.58992 \n",
      "Step: 2450 error: 1.21716 \n",
      "Step: 2500 error: 1.11829 \n",
      "Step: 2550 error: 1.32983 \n",
      "Step: 2600 error: 1.51886 \n",
      "Step: 2650 error: 1.32534 \n",
      "Step: 2700 error: 1.10353 \n",
      "Step: 2750 error: 1.34659 \n",
      "Step: 2800 error: 1.28583 \n",
      "Step: 2850 error: 1.29719 \n",
      "Step: 2900 error: 1.26114 \n",
      "Step: 2950 error: 1.25573 \n",
      "Step: 3000 error: 1.05538 \n",
      "Step: 3050 error: 0.951715 \n",
      "Step: 3100 error: 1.07551 \n",
      "Step: 3150 error: 1.44662 \n",
      "Step: 3200 error: 1.25661 \n",
      "Step: 3250 error: 0.79467 \n",
      "Step: 3300 error: 0.938809 \n",
      "Step: 3350 error: 1.01624 \n",
      "Step: 3400 error: 1.12764 \n",
      "Step: 3450 error: 0.845189 \n",
      "Step: 3500 error: 1.13017 \n",
      "Step: 3550 error: 0.656751 \n",
      "Step: 3600 error: 0.899767 \n",
      "Step: 3650 error: 1.22643 \n",
      "Step: 3700 error: 0.966197 \n",
      "Step: 3750 error: 0.934173 \n",
      "Step: 3800 error: 0.641592 \n",
      "Step: 3850 error: 0.877346 \n",
      "Step: 3900 error: 0.878668 \n",
      "Step: 3950 error: 0.766573 \n",
      "Step: 4000 error: 0.737725 \n",
      "Step: 4050 error: 0.762896 \n",
      "Step: 4100 error: 0.772247 \n",
      "Step: 4150 error: 0.830073 \n",
      "Step: 4200 error: 0.690925 \n",
      "Step: 4250 error: 0.676484 \n",
      "Step: 4300 error: 0.672709 \n",
      "Step: 4350 error: 0.623426 \n",
      "Step: 4400 error: 0.707857 \n",
      "Step: 4450 error: 0.703165 \n",
      "Step: 4500 error: 0.596241 \n",
      "Step: 4550 error: 0.608738 \n",
      "Step: 4600 error: 0.666998 \n",
      "Step: 4650 error: 0.514167 \n",
      "Step: 4700 error: 0.617786 \n",
      "Step: 4750 error: 0.838361 \n",
      "Step: 4800 error: 0.618989 \n",
      "Step: 4850 error: 0.592104 \n",
      "Step: 4900 error: 0.695175 \n",
      "Step: 4950 error: 0.601625 \n",
      "Step: 5000 error: 0.663125 \n",
      "Step: 5050 error: 0.618897 \n",
      "Step: 5100 error: 0.529451 \n",
      "Step: 5150 error: 0.671376 \n",
      "Step: 5200 error: 0.657241 \n",
      "Step: 5250 error: 0.562675 \n",
      "Step: 5300 error: 0.763919 \n",
      "Step: 5350 error: 0.692657 \n",
      "Step: 5400 error: 0.509588 \n",
      "Step: 5450 error: 0.685119 \n",
      "Step: 5500 error: 0.503425 \n",
      "Step: 5550 error: 0.478887 \n",
      "Step: 5600 error: 0.556988 \n",
      "Step: 5650 error: 0.489551 \n",
      "Step: 5700 error: 0.569776 \n",
      "Step: 5750 error: 0.529924 \n",
      "Step: 5800 error: 0.685248 \n",
      "Step: 5850 error: 0.533972 \n",
      "Step: 5900 error: 0.418471 \n",
      "Step: 5950 error: 0.565801 \n",
      "Step: 6000 error: 0.434712 \n",
      "Step: 6050 error: 0.581649 \n",
      "Step: 6100 error: 0.555844 \n",
      "Step: 6150 error: 0.562576 \n",
      "Step: 6200 error: 0.713405 \n",
      "Step: 6250 error: 0.464161 \n",
      "Step: 6300 error: 0.374994 \n",
      "Step: 6350 error: 0.540254 \n",
      "Step: 6400 error: 0.574375 \n",
      "Step: 6450 error: 0.518312 \n",
      "Step: 6500 error: 0.488158 \n",
      "Step: 6550 error: 0.493611 \n",
      "Step: 6600 error: 0.386601 \n",
      "Step: 6650 error: 0.504356 \n",
      "Step: 6700 error: 0.616893 \n",
      "Step: 6750 error: 0.549827 \n",
      "Step: 6800 error: 0.593687 \n",
      "Step: 6850 error: 0.534112 \n",
      "Step: 6900 error: 0.428212 \n",
      "Step: 6950 error: 0.445443 \n",
      "Step: 7000 error: 0.536857 \n",
      "Step: 7050 error: 0.506496 \n",
      "Step: 7100 error: 0.375112 \n",
      "Step: 7150 error: 0.609672 \n",
      "Step: 7200 error: 0.656418 \n",
      "Step: 7250 error: 0.404891 \n",
      "Step: 7300 error: 0.413214 \n",
      "Step: 7350 error: 0.528288 \n",
      "Step: 7400 error: 0.442348 \n",
      "Step: 7450 error: 0.453882 \n",
      "Step: 7500 error: 0.574548 \n",
      "Step: 7550 error: 0.549169 \n",
      "Step: 7600 error: 0.32727 \n",
      "Step: 7650 error: 0.406302 \n",
      "Step: 7700 error: 0.437401 \n",
      "Step: 7750 error: 0.371332 \n",
      "Step: 7800 error: 0.452169 \n",
      "Step: 7850 error: 0.452109 \n",
      "Step: 7900 error: 0.528779 \n",
      "Step: 7950 error: 0.537706 \n",
      "Step: 8000 error: 0.391922 \n",
      "Step: 8050 error: 0.508845 \n",
      "Step: 8100 error: 0.374937 \n",
      "Step: 8150 error: 0.321035 \n",
      "Step: 8200 error: 0.417693 \n",
      "Step: 8250 error: 0.336843 \n",
      "Step: 8300 error: 0.406147 \n",
      "Step: 8350 error: 0.459709 \n",
      "Step: 8400 error: 0.415663 \n",
      "Step: 8450 error: 0.303967 \n",
      "Step: 8500 error: 0.469218 \n",
      "Step: 8550 error: 0.400513 \n",
      "Step: 8600 error: 0.335676 \n",
      "Step: 8650 error: 0.348879 \n",
      "Step: 8700 error: 0.436838 \n",
      "Step: 8750 error: 0.342105 \n",
      "Step: 8800 error: 0.333104 \n",
      "Step: 8850 error: 0.297921 \n",
      "Step: 8900 error: 0.342365 \n",
      "Step: 8950 error: 0.410849 \n",
      "Step: 9000 error: 0.479144 \n",
      "Step: 9050 error: 0.378555 \n",
      "Step: 9100 error: 0.459368 \n",
      "Step: 9150 error: 0.355487 \n",
      "Step: 9200 error: 0.316465 \n",
      "Step: 9250 error: 0.38876 \n",
      "Step: 9300 error: 0.520502 \n",
      "Step: 9350 error: 0.278155 \n",
      "Step: 9400 error: 0.385544 \n",
      "Step: 9450 error: 0.460495 \n",
      "Step: 9500 error: 0.394151 \n",
      "Step: 9550 error: 0.24022 \n",
      "Step: 9600 error: 0.472483 \n",
      "Step: 9650 error: 0.392473 \n",
      "Step: 9700 error: 0.278062 \n",
      "Step: 9750 error: 0.307266 \n",
      "Step: 9800 error: 0.347234 \n",
      "Step: 9850 error: 0.348309 \n",
      "Step: 9900 error: 0.248209 \n",
      "Step: 9950 error: 0.4186 \n"
     ]
    }
   ],
   "source": [
    "\n",
    "\n",
    "for step in range(epochs):\n",
    "    #get a random batch of data\n",
    "    batch_x, batch_y = mnist.train.next_batch(batch_size)\n",
    "    \n",
    "    #run the training and the loss\n",
    "    out_training , out_loss = session.run([train,loss],feed_dict={x_data: batch_x, y_data: batch_y})\n",
    "\n",
    "        \n",
    "    if step % display_epochs == 0:\n",
    "        print(\"Step: %04d error: %g \"%(step,out_loss))\n"
   ]
  },
  {
   "cell_type": "code",
   "execution_count": 16,
   "metadata": {},
   "outputs": [
    {
     "name": "stdout",
     "output_type": "stream",
     "text": [
      "Complete\n",
      "Accuracy: 90%\n"
     ]
    }
   ],
   "source": [
    "print \"Complete\"\n",
    "correct_prediction = tf.equal(tf.argmax(y, 1), tf.argmax(y_data, 1))\n",
    "# Calculate accuracy\n",
    "accuracy = tf.reduce_mean(tf.cast(correct_prediction, \"float\"))\n",
    "accuracy = session.run(accuracy,feed_dict={x_data: mnist.test.images, y_data: mnist.test.labels})\n",
    "print \"Accuracy:\", \"{:.0%}\".format(accuracy)"
   ]
  },
  {
   "cell_type": "code",
   "execution_count": null,
   "metadata": {
    "collapsed": true
   },
   "outputs": [],
   "source": []
  },
  {
   "cell_type": "code",
   "execution_count": 17,
   "metadata": {
    "collapsed": true
   },
   "outputs": [],
   "source": [
    "#needs the session open\n",
    "def bar_graph(x1,y1):\n",
    "    probabilities = session.run(result, feed_dict={x_data: x1, y_data: y1})\n",
    "    label = session.run(tf.argmax(y1, 1))\n",
    "    predicted = session.run(tf.argmax(probabilities, 1))\n",
    "\n",
    "    print \"Actual:\",label[0], \" Predicted: \", predicted[0]\n",
    "    display_mnist(x1)\n",
    "    y=probabilities[0]\n",
    "    N = len(probabilities[0])\n",
    "    x = range(N)\n",
    "    width = 1/1.5\n",
    "    plt.bar(x, y, width, color=\"blue\")\n",
    "    plt.show()"
   ]
  },
  {
   "cell_type": "code",
   "execution_count": 18,
   "metadata": {},
   "outputs": [
    {
     "name": "stdout",
     "output_type": "stream",
     "text": [
      "Actual: 3  Predicted:  3\n"
     ]
    },
    {
     "data": {
      "image/png": "[encoded data removed]",
      "text/plain": [
       "<matplotlib.figure.Figure at 0x7fb358c60590>"
      ]
     },
     "metadata": {},
     "output_type": "display_data"
    },
    {
     "data": {
      "image/png": "[encoded data removed]",
      "text/plain": [
       "<matplotlib.figure.Figure at 0x7fb358f11190>"
      ]
     },
     "metadata": {},
     "output_type": "display_data"
    }
   ],
   "source": [
    "\n",
    "x1, y1 = mnist.test.next_batch(1)\n",
    "bar_graph(x1,y1)\n"
   ]
  },
  {
   "cell_type": "code",
   "execution_count": 19,
   "metadata": {
    "collapsed": true
   },
   "outputs": [],
   "source": [
    "session.close()"
   ]
  },
  {
   "cell_type": "code",
   "execution_count": null,
   "metadata": {
    "collapsed": true
   },
   "outputs": [],
   "source": []
  }
 ],
 "metadata": {
  "kernelspec": {
   "display_name": "Python 2",
   "language": "python",
   "name": "python2"
  },
  "language_info": {
   "codemirror_mode": {
    "name": "ipython",
    "version": 2
   },
   "file_extension": ".py",
   "mimetype": "text/x-python",
   "name": "python",
   "nbconvert_exporter": "python",
   "pygments_lexer": "ipython2",
   "version": "2.7.12"
  }
 },
 "nbformat": 4,
 "nbformat_minor": 2
}
