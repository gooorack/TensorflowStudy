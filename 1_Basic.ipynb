{
 "cells": [
  {
   "cell_type": "markdown",
   "metadata": {
    "collapsed": true
   },
   "source": [
    "### Introduction to some basic concepts"
   ]
  },
  {
   "cell_type": "markdown",
   "metadata": {},
   "source": [
    "TensorFlow defines computations as Graphs, and these are made with operations (also know as “ops”). \n",
    "So, when we work with TensorFlow, it is the same as defining a series of operations in a Graph.\n",
    "\n",
    "To execute these operations as computations, we must launch the Graph into a Session. The session \n",
    "translates and passes the operations represented into the graphs to the device you want to execute them on, be it a GPU or CPU.\n"
   ]
  },
  {
   "cell_type": "code",
   "execution_count": 19,
   "metadata": {},
   "outputs": [
    {
     "name": "stdout",
     "output_type": "stream",
     "text": [
      "[5]\n"
     ]
    }
   ],
   "source": [
    "#source ~/tensorflow/bin/activate      # bash, sh, ksh, or zsh \n",
    "\n",
    "'''\n",
    "\n",
    "\n",
    "'''\n",
    "\n",
    "# To use TensorFlow, we need to import the library\n",
    "import tensorflow as tf\n",
    "\n",
    "# To create our first graph we will utilize source operations, which do not need any information input. \n",
    "# These source operations or source ops will pass their information to other operations which will execute computations.\n",
    "a = tf.constant([2])\n",
    "b = tf.constant([3])\n",
    "\n",
    "#  The function tf.add() adds two elements (you could also use c = a + b)\n",
    "c = tf.add(a,b)\n",
    "#c = a + b is also a way to define the sum of the terms\n",
    "\n",
    "d = a + b\n",
    "\n",
    "# Then TensorFlow needs to initialize a session to run our code. Sessions are, in a way, a context for creating a graph inside TensorFlow\n",
    "session = tf.Session()\n",
    "\n",
    "result = session.run(c)\n",
    "print(result)\n",
    "session.close()"
   ]
  },
  {
   "cell_type": "code",
   "execution_count": null,
   "metadata": {
    "collapsed": true
   },
   "outputs": [],
   "source": []
  },
  {
   "cell_type": "code",
   "execution_count": 20,
   "metadata": {},
   "outputs": [
    {
     "name": "stdout",
     "output_type": "stream",
     "text": [
      "13\n"
     ]
    }
   ],
   "source": [
    "import tensorflow as tf\n",
    "\n",
    "\n",
    "a = 6\n",
    "b = 7\n",
    "\n",
    "c = tf.add(a,b)\n",
    "session = tf.Session()\n",
    "\n",
    "result = session.run(c)\n",
    "print(result)\n",
    "session.close()"
   ]
  },
  {
   "cell_type": "code",
   "execution_count": null,
   "metadata": {
    "collapsed": true
   },
   "outputs": [],
   "source": []
  }
 ],
 "metadata": {
  "kernelspec": {
   "display_name": "Python 2",
   "language": "python",
   "name": "python2"
  },
  "language_info": {
   "codemirror_mode": {
    "name": "ipython",
    "version": 2
   },
   "file_extension": ".py",
   "mimetype": "text/x-python",
   "name": "python",
   "nbconvert_exporter": "python",
   "pygments_lexer": "ipython2",
   "version": "2.7.12"
  }
 },
 "nbformat": 4,
 "nbformat_minor": 2
}
