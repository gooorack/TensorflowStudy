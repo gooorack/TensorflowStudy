{
 "cells": [
  {
   "cell_type": "markdown",
   "metadata": {},
   "source": [
    "## Variables"
   ]
  },
  {
   "cell_type": "markdown",
   "metadata": {
    "collapsed": true
   },
   "source": [
    "We use variables to store data during computation."
   ]
  },
  {
   "cell_type": "code",
   "execution_count": 31,
   "metadata": {
    "collapsed": true
   },
   "outputs": [],
   "source": [
    "import tensorflow as tf"
   ]
  },
  {
   "cell_type": "code",
   "execution_count": 32,
   "metadata": {
    "collapsed": true
   },
   "outputs": [],
   "source": [
    "#Different Tensor Variables\n",
    "\n",
    "# Basic\n",
    "y = tf.Variable(10, name='y')\n",
    "\n",
    "#array\n",
    "array = tf.Variable([1,2,3,4], name='array')\n",
    "                \n",
    "# Zeros\n",
    "zeros=tf.zeros([3,2])\n",
    "\n",
    "# Ones\n",
    "ones = tf.ones([3,2])\n",
    "\n",
    "# Random uniform values\n",
    "rand_uniform = tf.random_uniform([3,2], minval = -10, maxval=10)\n",
    "\n",
    "# Normally distributed numbers\n",
    "rand_normal = tf.random_normal([3,2],mean=0.0,stddev=3.0)"
   ]
  },
  {
   "cell_type": "code",
   "execution_count": 33,
   "metadata": {
    "collapsed": true
   },
   "outputs": [],
   "source": [
    "#Changing values of variables\n",
    "my_variable = tf.Variable(0)\n",
    "\n",
    "increment_my_variable = my_variable.assign(my_variable + 1)"
   ]
  },
  {
   "cell_type": "code",
   "execution_count": 34,
   "metadata": {
    "collapsed": true
   },
   "outputs": [],
   "source": [
    "# Add an op to initialize the variables.\n",
    "init_op = tf.global_variables_initializer()"
   ]
  },
  {
   "cell_type": "code",
   "execution_count": 35,
   "metadata": {
    "collapsed": true
   },
   "outputs": [],
   "source": [
    "#execute with examples\n",
    "session = tf.Session()\n",
    "session.run(init_op)\n"
   ]
  },
  {
   "cell_type": "code",
   "execution_count": 36,
   "metadata": {},
   "outputs": [
    {
     "name": "stdout",
     "output_type": "stream",
     "text": [
      "10\n"
     ]
    }
   ],
   "source": [
    "print(session.run(y))"
   ]
  },
  {
   "cell_type": "code",
   "execution_count": 37,
   "metadata": {},
   "outputs": [
    {
     "name": "stdout",
     "output_type": "stream",
     "text": [
      "[1 2 3 4]\n"
     ]
    }
   ],
   "source": [
    "print(session.run(array))"
   ]
  },
  {
   "cell_type": "code",
   "execution_count": 38,
   "metadata": {
    "scrolled": true
   },
   "outputs": [
    {
     "name": "stdout",
     "output_type": "stream",
     "text": [
      "[[ 0.  0.]\n",
      " [ 0.  0.]\n",
      " [ 0.  0.]]\n"
     ]
    }
   ],
   "source": [
    "print(session.run(zeros))"
   ]
  },
  {
   "cell_type": "code",
   "execution_count": 39,
   "metadata": {},
   "outputs": [
    {
     "name": "stdout",
     "output_type": "stream",
     "text": [
      "[[ 1.  1.]\n",
      " [ 1.  1.]\n",
      " [ 1.  1.]]\n"
     ]
    }
   ],
   "source": [
    "print(session.run(ones))"
   ]
  },
  {
   "cell_type": "code",
   "execution_count": 40,
   "metadata": {},
   "outputs": [
    {
     "name": "stdout",
     "output_type": "stream",
     "text": [
      "[[ 7.72863579 -4.7578001 ]\n",
      " [ 2.58307934 -2.22212315]\n",
      " [-4.56864834 -1.49850845]]\n"
     ]
    }
   ],
   "source": [
    "print(session.run(rand_uniform))"
   ]
  },
  {
   "cell_type": "code",
   "execution_count": 41,
   "metadata": {},
   "outputs": [
    {
     "name": "stdout",
     "output_type": "stream",
     "text": [
      "[[ 1.76291156 -0.15611187]\n",
      " [-1.22322226  4.00286293]\n",
      " [-3.7710557   5.20210314]]\n"
     ]
    }
   ],
   "source": [
    "print(session.run(rand_normal))"
   ]
  },
  {
   "cell_type": "code",
   "execution_count": 42,
   "metadata": {
    "scrolled": true
   },
   "outputs": [
    {
     "name": "stdout",
     "output_type": "stream",
     "text": [
      "1\n",
      "2\n",
      "3\n",
      "4\n",
      "1\n",
      "2\n"
     ]
    }
   ],
   "source": [
    "print(session.run(increment_my_variable))\n",
    "print(session.run(increment_my_variable))\n",
    "print(session.run(increment_my_variable))\n",
    "print(session.run(increment_my_variable))\n",
    "\n",
    "session.run(my_variable.assign(0))\n",
    "\n",
    "print(session.run(increment_my_variable))\n",
    "print(session.run(increment_my_variable))"
   ]
  },
  {
   "cell_type": "code",
   "execution_count": 43,
   "metadata": {},
   "outputs": [
    {
     "name": "stdout",
     "output_type": "stream",
     "text": [
      "Saved: ./model.ckpt\n"
     ]
    }
   ],
   "source": [
    "# Use this operation to save the session variables\n",
    "saver = tf.train.Saver()\n",
    "\n",
    "# Run the save operation\n",
    "save_path = saver.save(session, \"./model.ckpt\")\n",
    "print(\"Saved: %s\" % save_path)"
   ]
  },
  {
   "cell_type": "code",
   "execution_count": 44,
   "metadata": {},
   "outputs": [
    {
     "name": "stdout",
     "output_type": "stream",
     "text": [
      "('Current Value: ', 2)\n",
      "('Changed Value:', 0)\n",
      "('Restored Value From File:', 2)\n"
     ]
    }
   ],
   "source": [
    "#This will be the same as the Saved value in model.ckpt\n",
    "print(\"Current Value: \" , session.run(my_variable))\n",
    "\n",
    "# Change the value\n",
    "print(\"Changed Value:\", session.run(my_variable.assign(0)))\n",
    "\n",
    "# Restore value from file\n",
    "saver.restore(session, \"./model.ckpt\")\n",
    "\n",
    "# Value has been restored\n",
    "print(\"Restored Value From File:\",session.run(my_variable))"
   ]
  },
  {
   "cell_type": "code",
   "execution_count": 45,
   "metadata": {
    "collapsed": true
   },
   "outputs": [],
   "source": [
    "session.close()"
   ]
  }
 ],
 "metadata": {
  "kernelspec": {
   "display_name": "Python 2",
   "language": "python",
   "name": "python2"
  },
  "language_info": {
   "codemirror_mode": {
    "name": "ipython",
    "version": 2
   },
   "file_extension": ".py",
   "mimetype": "text/x-python",
   "name": "python",
   "nbconvert_exporter": "python",
   "pygments_lexer": "ipython2",
   "version": "2.7.12"
  }
 },
 "nbformat": 4,
 "nbformat_minor": 2
}
