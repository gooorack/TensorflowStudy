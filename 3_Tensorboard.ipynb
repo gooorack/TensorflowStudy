{
 "cells": [
  {
   "cell_type": "code",
   "execution_count": 15,
   "metadata": {},
   "outputs": [],
   "source": [
    "import tensorflow as tf"
   ]
  },
  {
   "cell_type": "code",
   "execution_count": 16,
   "metadata": {},
   "outputs": [
    {
     "name": "stdout",
     "output_type": "stream",
     "text": [
      "84\n"
     ]
    }
   ],
   "source": [
    "#New graph\n",
    "a=tf.constant(4)\n",
    "b=tf.constant(3)\n",
    "c=tf.add(a,b)\n",
    "d=tf.multiply(a,b)\n",
    "e=tf.multiply(c,d)\n",
    "\n",
    "with tf.Session() as session:\n",
    "    result = session.run(e)\n",
    "    print(result)\n",
    "\n",
    "    \n",
    "    #create tensorboard\n",
    "    writer = tf.summary.FileWriter('./my_graph', graph=tf.get_default_graph())"
   ]
  },
  {
   "cell_type": "code",
   "execution_count": 17,
   "metadata": {},
   "outputs": [
    {
     "name": "stdout",
     "output_type": "stream",
     "text": [
      "84\n"
     ]
    }
   ],
   "source": [
    "#New graph\n",
    "with tf.name_scope(\"Scope1\"):\n",
    "    a=tf.constant(4,name=\"AAAA\")\n",
    "    b=tf.constant(3,name=\"BBB\")\n",
    "    c=tf.add(a,b,name=\"CCC\")\n",
    "    d=tf.multiply(a,b,name=\"DDD\")\n",
    "    e=tf.multiply(c,d,name=\"EEE\")\n",
    "\n",
    "with tf.Session() as session:\n",
    "    result = session.run(e)\n",
    "    print(result)\n",
    "\n",
    "    \n",
    "    #create tensorboard\n",
    "    writer = tf.summary.FileWriter('./my_graph', graph=tf.get_default_graph())"
   ]
  },
  {
   "cell_type": "code",
   "execution_count": null,
   "metadata": {
    "collapsed": true
   },
   "outputs": [],
   "source": []
  }
 ],
 "metadata": {
  "kernelspec": {
   "display_name": "Python 2",
   "language": "python",
   "name": "python2"
  },
  "language_info": {
   "codemirror_mode": {
    "name": "ipython",
    "version": 2
   },
   "file_extension": ".py",
   "mimetype": "text/x-python",
   "name": "python",
   "nbconvert_exporter": "python",
   "pygments_lexer": "ipython2",
   "version": "2.7.12"
  }
 },
 "nbformat": 4,
 "nbformat_minor": 2
}
